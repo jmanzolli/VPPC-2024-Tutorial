{
 "cells": [
  {
   "cell_type": "markdown",
   "metadata": {},
   "source": [
    "# Optimization model\n",
    "\n",
    "---\n",
    "Import the libraries"
   ]
  },
  {
   "cell_type": "code",
   "execution_count": 92,
   "metadata": {},
   "outputs": [],
   "source": [
    "import pyomo.environ as pyo\n",
    "from pyomo.opt import SolverFactory\n",
    "import pandas as pd\n",
    "import matplotlib.pyplot as plt\n",
    "import numpy as np"
   ]
  },
  {
   "cell_type": "markdown",
   "metadata": {},
   "source": [
    "# Dataset\n",
    "\n",
    "---\n",
    "Step 1: Import the dataset (input.xlsx)"
   ]
  },
  {
   "cell_type": "code",
   "execution_count": 93,
   "metadata": {},
   "outputs": [],
   "source": [
    "data = pd.read_excel('input.xlsx', None)"
   ]
  },
  {
   "cell_type": "markdown",
   "metadata": {},
   "source": [
    "Setp 2: Assign the dataset into respective variables"
   ]
  },
  {
   "cell_type": "code",
   "execution_count": 94,
   "metadata": {},
   "outputs": [
    {
     "data": {
      "text/plain": [
       "\"\\nT_start = data['Dataset']['Trip Begin'].tolist()\\nT_start = [int(x) for x in T_start]\\nT_end = data['Dataset']['Trip End'].tolist()\\nT_end = [int(x) for x in T_end]\\nalpha = data['Dataset']['Charger'].tolist()\\ngama = data['Dataset']['Energy consumption'].tolist()\\ngama = gama[0]\\nC_bat = data['Dataset']['Buses'].tolist()\\nP = data['Energy Price']['Buy']\\nch_eff = 0.9\\nE_0 = 0.2\\nE_max = 1\\nE_min = 0.2\\nE_end = 0.2\\ndelta_t = 0.25\\nT = 96\\nt = len(P)\\nk = len(C_bat)\\nn = len(alpha)\\ni = len(T_start)\\n\""
      ]
     },
     "execution_count": 94,
     "metadata": {},
     "output_type": "execute_result"
    }
   ],
   "source": [
    "T_start = [5,6]\n",
    "T_end = [22,21]\n",
    "alpha = [150,150]\n",
    "gama = 12\n",
    "C_bat = [350,350]\n",
    "P = [0.1,0.05,0.05,0.05,0.05,0.07,0.12,0.12,0.14,0.2,0.075,0.075,0.075,0.1,0.1,0.2,0.1,0.15,0.09,0.01,0.05,0.7,0.2,0.1]\n",
    "ch_eff = 0.9\n",
    "E_0 = 0.2\n",
    "E_max = 1\n",
    "E_min = 0.2\n",
    "E_end = 0.2\n",
    "delta_t = 1\n",
    "T = 24\n",
    "t = len(P)\n",
    "k = len(C_bat)\n",
    "n = len(alpha)\n",
    "i = len(T_start)\n",
    "\n",
    "'''\n",
    "T_start = data['Dataset']['Trip Begin'].tolist()\n",
    "T_start = [int(x) for x in T_start]\n",
    "T_end = data['Dataset']['Trip End'].tolist()\n",
    "T_end = [int(x) for x in T_end]\n",
    "alpha = data['Dataset']['Charger'].tolist()\n",
    "gama = data['Dataset']['Energy consumption'].tolist()\n",
    "gama = gama[0]\n",
    "C_bat = data['Dataset']['Buses'].tolist()\n",
    "P = data['Energy Price']['Buy']\n",
    "ch_eff = 0.9\n",
    "E_0 = 0.2\n",
    "E_max = 1\n",
    "E_min = 0.2\n",
    "E_end = 0.2\n",
    "delta_t = 0.25\n",
    "T = 96\n",
    "t = len(P)\n",
    "k = len(C_bat)\n",
    "n = len(alpha)\n",
    "i = len(T_start)\n",
    "'''"
   ]
  },
  {
   "cell_type": "markdown",
   "metadata": {},
   "source": [
    "## Programming the Opt model\n",
    "\n",
    "---\n",
    "\n",
    "### Step 1: Define the model"
   ]
  },
  {
   "cell_type": "code",
   "execution_count": 95,
   "metadata": {},
   "outputs": [],
   "source": [
    "model = pyo.ConcreteModel()"
   ]
  },
  {
   "cell_type": "markdown",
   "metadata": {},
   "source": [
    "### Step 2: Define the ranges"
   ]
  },
  {
   "cell_type": "code",
   "execution_count": 96,
   "metadata": {},
   "outputs": [],
   "source": [
    "#ranges\n",
    "model.I = pyo.RangeSet(i) # set of trips\n",
    "model.T = pyo.RangeSet(t) # set of timesteps\n",
    "model.K = pyo.RangeSet(k) # set of buses\n",
    "model.N = pyo.RangeSet(n) # set of chargers"
   ]
  },
  {
   "cell_type": "markdown",
   "metadata": {},
   "source": [
    "### Step 3: Define the parameters"
   ]
  },
  {
   "cell_type": "code",
   "execution_count": 97,
   "metadata": {},
   "outputs": [],
   "source": [
    "#parameters\n",
    "model.T_start = pyo.Param(model.I, initialize=lambda model, i: T_start[i-1]) # start time of trip i\n",
    "model.T_end = pyo.Param(model.I, initialize=lambda model, i: T_end[i-1]) # end time of trip i\n",
    "model.alpha = pyo.Param(model.N, initialize=lambda model, n: alpha[n-1]) # charging power of charger n\n",
    "model.ch_eff = pyo.Param(initialize=ch_eff) # charging efficiency of charger n\n",
    "model.gama = pyo.Param(initialize=gama) # energy consumption\n",
    "model.P = pyo.Param(model.T, initialize=lambda model, t: P[t-1]) # electricity purchasing price in time t\n",
    "model.E_0 = pyo.Param(initialize=E_0) # initial energy level of bus k\n",
    "model.E_min = pyo.Param(initialize=E_min) # minimum energy level allowed for bus k\n",
    "model.E_max = pyo.Param(initialize=E_max) # maximum energy level allowed for bus k\n",
    "model.E_end = pyo.Param(initialize=E_end) # minimum energy after an operation day for bus k\n",
    "model.C_bat = pyo.Param(model.K, initialize=lambda model, k: C_bat[k-1]) # total capacity of the bus k battery"
   ]
  },
  {
   "cell_type": "markdown",
   "metadata": {},
   "source": [
    "### Step 4: Define the variables"
   ]
  },
  {
   "cell_type": "code",
   "execution_count": 98,
   "metadata": {},
   "outputs": [],
   "source": [
    "#binary variables\n",
    "model.b = pyo.Var(model.K,model.I, model.T, within=pyo.Binary) # binary variable indicating if bus k is serving trip i at time t\n",
    "model.x = pyo.Var(model.K, model.N, model.T, domain=pyo.Binary) # binary variable indicating if bus k is occupying a charger n at time t to charge\n",
    "model.c = pyo.Var(model.K, model.T, domain=pyo.Binary) # binary variable indicating if bus k is charging/discharging at time t\n",
    "\n",
    "#non-negative variables\n",
    "model.e = pyo.Var(model.K, model.T, within=pyo.NonNegativeReals) # energy level of bus k at time t\n",
    "model.w_buy = pyo.Var(model.T, within=pyo.NonNegativeReals) # electricity purchased from the grid at time t"
   ]
  },
  {
   "cell_type": "markdown",
   "metadata": {},
   "source": [
    "### Step 5: Define the objective function"
   ]
  },
  {
   "cell_type": "code",
   "execution_count": 99,
   "metadata": {},
   "outputs": [],
   "source": [
    "#objective function\n",
    "def rule_obj(mod):\n",
    "    return sum(mod.P[t]*mod.w_buy[t] for t in mod.T)\n",
    "model.obj = pyo.Objective(rule=rule_obj, sense=pyo.minimize)"
   ]
  },
  {
   "cell_type": "markdown",
   "metadata": {},
   "source": [
    "#### Step 6: Define the constraints"
   ]
  },
  {
   "cell_type": "code",
   "execution_count": 100,
   "metadata": {},
   "outputs": [],
   "source": [
    "#constraints\n",
    "model.constraints = pyo.ConstraintList()  # Create a set of constraints\n",
    "\n",
    "#constraint 1\n",
    "for k in model.K:\n",
    "    for t in model.T:\n",
    "        model.constraints.add(sum(model.b[k,i,t] for i in model.I) + sum(model.x[k,n,t] for n in model.N) <=1)\n",
    "\n",
    "#constraint 2\n",
    "for n in model.N:\n",
    "    for t in model.T:\n",
    "        model.constraints.add(sum(model.x[k,n,t] for k in model.K) <= 1)\n",
    "\n",
    "#constraint 3\n",
    "for i in model.I: \n",
    "    for t in range(model.T_start[i],model.T_end[i]):\n",
    "        model.constraints.add(sum(model.b[k,i,t] for k in model.K) == 1)\n",
    "\n",
    "    for t in range(1,model.T_start[i]):\n",
    "        model.constraints.add(sum(model.b[k,i,t] for k in model.K) == 0)\n",
    "\n",
    "    for t in range(model.T_end[i],T+1):\n",
    "        model.constraints.add(sum(model.b[k,i,t] for k in model.K) == 0)\n",
    "\n",
    "#constraint 4\n",
    "for i in model.I:\n",
    "    for k in model.K:\n",
    "        for t in range(model.T_start[i],model.T_end[i]-1):\n",
    "            model.constraints.add(model.b[k,i,t+1] >= model.b[k,i,t])\n",
    "\n",
    "#constraint 5\n",
    "for k in model.K:\n",
    "    for t in range(2,T+1):\n",
    "        model.constraints.add(model.e[k,t] == model.e[k,t-1] + sum(delta_t * model.ch_eff*model.alpha[n]*model.x[k,n,t] for n in model.N) - sum(model.gama * model.b[k,i,t] for i in model.I))\n",
    "\n",
    "#constraint 6\n",
    "for t in model.T:\n",
    "    model.constraints.add(sum(delta_t * model.ch_eff*model.alpha[n]*model.x[k,n,t] for n in model.N for k in model.K) == model.w_buy[t])\n",
    "\n",
    "#constraint 7\n",
    "for k in model.K:\n",
    "    for t in model.T:\n",
    "        model.constraints.add(model.e[k,t] >= model.C_bat[k] * model.E_min)\n",
    "\n",
    "#constraint 8\n",
    "for k in model.K:\n",
    "    for t in model.T:\n",
    "        model.constraints.add(E_max * model.C_bat[k] >= model.e[k,t])          \n",
    "\n",
    "#constraint 9\n",
    "for k in model.K:\n",
    "    model.constraints.add(model.e[k,1] == model.E_0*model.C_bat[k])\n",
    "\n",
    "#constraint 10\n",
    "for k in model.K:\n",
    "    model.constraints.add(model.e[k,T] >= model.E_end*model.C_bat[k])  "
   ]
  },
  {
   "cell_type": "markdown",
   "metadata": {},
   "source": [
    "### Step 7: Solve the model"
   ]
  },
  {
   "cell_type": "code",
   "execution_count": 101,
   "metadata": {},
   "outputs": [
    {
     "name": "stdout",
     "output_type": "stream",
     "text": [
      "GLPSOL--GLPK LP/MIP Solver 5.0\n",
      "Parameter(s) specified in the command line:\n",
      " --write /var/folders/bs/tqpdfpm95n9c4cp994_d9lm00000gn/T/tmpiitp1u_e.glpk.raw\n",
      " --wglp /var/folders/bs/tqpdfpm95n9c4cp994_d9lm00000gn/T/tmpzvzqmzmh.glpk.glp\n",
      " --cpxlp /var/folders/bs/tqpdfpm95n9c4cp994_d9lm00000gn/T/tmptv5xo30s.pyomo.lp\n",
      "Reading problem data from '/var/folders/bs/tqpdfpm95n9c4cp994_d9lm00000gn/T/tmptv5xo30s.pyomo.lp'...\n",
      "/var/folders/bs/tqpdfpm95n9c4cp994_d9lm00000gn/T/tmptv5xo30s.pyomo.lp:2420: warning: lower bound of variable 'x27' redefined\n",
      "/var/folders/bs/tqpdfpm95n9c4cp994_d9lm00000gn/T/tmptv5xo30s.pyomo.lp:2420: warning: upper bound of variable 'x27' redefined\n",
      "374 rows, 264 columns, 1000 non-zeros\n",
      "192 integer variables, all of which are binary\n",
      "2612 lines were read\n",
      "Writing problem data to '/var/folders/bs/tqpdfpm95n9c4cp994_d9lm00000gn/T/tmpzvzqmzmh.glpk.glp'...\n",
      "2025 lines were written\n",
      "GLPK Integer Optimizer 5.0\n",
      "374 rows, 264 columns, 1000 non-zeros\n",
      "192 integer variables, all of which are binary\n",
      "Preprocessing...\n",
      "234 rows, 204 columns, 684 non-zeros\n",
      "160 integer variables, all of which are binary\n",
      "Scaling...\n",
      " A: min|aij| =  1.000e+00  max|aij| =  1.350e+02  ratio =  1.350e+02\n",
      "GM: min|aij| =  5.460e-01  max|aij| =  1.831e+00  ratio =  3.354e+00\n",
      "EQ: min|aij| =  2.981e-01  max|aij| =  1.000e+00  ratio =  3.354e+00\n",
      "2N: min|aij| =  2.500e-01  max|aij| =  1.055e+00  ratio =  4.219e+00\n",
      "Constructing initial basis...\n",
      "Size of triangular part is 234\n",
      "Solving LP relaxation...\n",
      "GLPK Simplex Optimizer 5.0\n",
      "234 rows, 204 columns, 684 non-zeros\n",
      "      0: obj =   4.020000000e+01 inf =   1.784e+01 (17)\n",
      "     96: obj =   1.920000000e+01 inf =   0.000e+00 (0)\n",
      "*   123: obj =   1.920000000e+01 inf =   6.661e-16 (0)\n",
      "OPTIMAL LP SOLUTION FOUND\n",
      "Integer optimization begins...\n",
      "Long-step dual simplex will be used\n",
      "+   123: mip =     not found yet >=              -inf        (1; 0)\n",
      "+   141: >>>>>   2.700000000e+01 >=   1.920000000e+01  28.9% (11; 0)\n",
      "+   654: mip =   2.700000000e+01 >=     tree is empty   0.0% (0; 751)\n",
      "INTEGER OPTIMAL SOLUTION FOUND\n",
      "Time used:   0.1 secs\n",
      "Memory used: 0.7 Mb (741012 bytes)\n",
      "Writing MIP solution to '/var/folders/bs/tqpdfpm95n9c4cp994_d9lm00000gn/T/tmpiitp1u_e.glpk.raw'...\n",
      "647 lines were written\n"
     ]
    }
   ],
   "source": [
    "opt = pyo.SolverFactory('glpk')\n",
    "#opt.options['timelimit'] = 60\n",
    "#opt.options['mipgap'] = 0.01\n",
    "results = opt.solve(model,tee=True)"
   ]
  },
  {
   "cell_type": "markdown",
   "metadata": {},
   "source": [
    "## Results and Vizualization\n",
    "\n",
    "---"
   ]
  },
  {
   "cell_type": "code",
   "execution_count": 102,
   "metadata": {},
   "outputs": [
    {
     "name": "stdout",
     "output_type": "stream",
     "text": [
      "The objective function values is: 27.0\n",
      "\n",
      "Problem: \n",
      "- Name: unknown\n",
      "  Lower bound: 27.0\n",
      "  Upper bound: 27.0\n",
      "  Number of objectives: 1\n",
      "  Number of constraints: 374\n",
      "  Number of variables: 264\n",
      "  Number of nonzeros: 1000\n",
      "  Sense: minimize\n",
      "Solver: \n",
      "- Status: ok\n",
      "  Termination condition: optimal\n",
      "  Statistics: \n",
      "    Branch and bound: \n",
      "      Number of bounded subproblems: 751\n",
      "      Number of created subproblems: 751\n",
      "  Error rc: 0\n",
      "  Time: 0.11687326431274414\n",
      "Solution: \n",
      "- number of solutions: 0\n",
      "  number of solutions displayed: 0\n",
      "\n"
     ]
    }
   ],
   "source": [
    "print('The objective function values is:', model.obj())\n",
    "print(results)"
   ]
  },
  {
   "cell_type": "markdown",
   "metadata": {},
   "source": [
    "## Plotting and assessing the results\n",
    "\n",
    "Defining the plot functions"
   ]
  },
  {
   "cell_type": "code",
   "execution_count": 103,
   "metadata": {},
   "outputs": [],
   "source": [
    "def plot_energy(K,T,e):\n",
    "    bus_list = []\n",
    "    energy_list = []\n",
    "    for k in K:\n",
    "        bus_number = 'bus' + ' ' + str(k)\n",
    "        bus_list.append(bus_number)\n",
    "    for t in T:\n",
    "        for  k in K:\n",
    "            energy_list.append(pyo.value(e[k,t]))\n",
    "    energy_array = np.reshape(energy_list, (len(T), len(bus_list)))\n",
    "    Energy = pd.DataFrame(energy_array,index=T, columns=bus_list)\n",
    "    Energy_perc = (Energy*100)/C_bat[0]\n",
    "    Energy_perc.plot(figsize=(12,6))\n",
    "    plt.xlabel('Time [min]')\n",
    "    plt.ylabel('State of Charge [%]')\n",
    "    return Energy, Energy_perc\n",
    "\n",
    "def plot_power(T,w):\n",
    "    transac_list = []\n",
    "    for t in T:\n",
    "        value = pyo.value(w[t])\n",
    "        transac_list.append(value)\n",
    "    Power = pd.DataFrame(transac_list, index=T, columns=['Power'])*4\n",
    "    Power.plot(figsize=(12,6))\n",
    "    plt.xlabel('Time [min]')\n",
    "    plt.ylabel('Power [kWh]')\n",
    "    return Power"
   ]
  },
  {
   "cell_type": "markdown",
   "metadata": {},
   "source": [
    "Vizualization of the results"
   ]
  },
  {
   "cell_type": "code",
   "execution_count": 104,
   "metadata": {},
   "outputs": [
    {
     "data": {
      "image/png": "[encoded data removed]",
      "text/plain": [
       "<Figure size 1200x600 with 1 Axes>"
      ]
     },
     "metadata": {},
     "output_type": "display_data"
    },
    {
     "data": {
      "image/png": "[encoded data removed]",
      "text/plain": [
       "<Figure size 1200x600 with 1 Axes>"
      ]
     },
     "metadata": {},
     "output_type": "display_data"
    }
   ],
   "source": [
    "energy, energy_perc = plot_energy(model.K,model.T,model.e)\n",
    "power = plot_power(model.T,model.w_buy)\n"
   ]
  },
  {
   "cell_type": "code",
   "execution_count": 105,
   "metadata": {},
   "outputs": [
    {
     "data": {
      "text/html": [
       "<div>\n",
       "<style scoped>\n",
       "    .dataframe tbody tr th:only-of-type {\n",
       "        vertical-align: middle;\n",
       "    }\n",
       "\n",
       "    .dataframe tbody tr th {\n",
       "        vertical-align: top;\n",
       "    }\n",
       "\n",
       "    .dataframe thead th {\n",
       "        text-align: right;\n",
       "    }\n",
       "</style>\n",
       "<table border=\"1\" class=\"dataframe\">\n",
       "  <thead>\n",
       "    <tr style=\"text-align: right;\">\n",
       "      <th></th>\n",
       "      <th>bus 1</th>\n",
       "      <th>bus 2</th>\n",
       "    </tr>\n",
       "  </thead>\n",
       "  <tbody>\n",
       "    <tr>\n",
       "      <th>count</th>\n",
       "      <td>24.000000</td>\n",
       "      <td>24.000000</td>\n",
       "    </tr>\n",
       "    <tr>\n",
       "      <th>mean</th>\n",
       "      <td>209.875000</td>\n",
       "      <td>221.875000</td>\n",
       "    </tr>\n",
       "    <tr>\n",
       "      <th>std</th>\n",
       "      <td>77.888612</td>\n",
       "      <td>66.217896</td>\n",
       "    </tr>\n",
       "    <tr>\n",
       "      <th>min</th>\n",
       "      <td>70.000000</td>\n",
       "      <td>70.000000</td>\n",
       "    </tr>\n",
       "    <tr>\n",
       "      <th>25%</th>\n",
       "      <td>145.000000</td>\n",
       "      <td>169.000000</td>\n",
       "    </tr>\n",
       "    <tr>\n",
       "      <th>50%</th>\n",
       "      <td>206.500000</td>\n",
       "      <td>206.500000</td>\n",
       "    </tr>\n",
       "    <tr>\n",
       "      <th>75%</th>\n",
       "      <td>271.000000</td>\n",
       "      <td>271.000000</td>\n",
       "    </tr>\n",
       "    <tr>\n",
       "      <th>max</th>\n",
       "      <td>340.000000</td>\n",
       "      <td>340.000000</td>\n",
       "    </tr>\n",
       "  </tbody>\n",
       "</table>\n",
       "</div>"
      ],
      "text/plain": [
       "            bus 1       bus 2\n",
       "count   24.000000   24.000000\n",
       "mean   209.875000  221.875000\n",
       "std     77.888612   66.217896\n",
       "min     70.000000   70.000000\n",
       "25%    145.000000  169.000000\n",
       "50%    206.500000  206.500000\n",
       "75%    271.000000  271.000000\n",
       "max    340.000000  340.000000"
      ]
     },
     "execution_count": 105,
     "metadata": {},
     "output_type": "execute_result"
    }
   ],
   "source": [
    "energy.describe()"
   ]
  },
  {
   "cell_type": "code",
   "execution_count": 106,
   "metadata": {},
   "outputs": [
    {
     "data": {
      "text/html": [
       "<div>\n",
       "<style scoped>\n",
       "    .dataframe tbody tr th:only-of-type {\n",
       "        vertical-align: middle;\n",
       "    }\n",
       "\n",
       "    .dataframe tbody tr th {\n",
       "        vertical-align: top;\n",
       "    }\n",
       "\n",
       "    .dataframe thead th {\n",
       "        text-align: right;\n",
       "    }\n",
       "</style>\n",
       "<table border=\"1\" class=\"dataframe\">\n",
       "  <thead>\n",
       "    <tr style=\"text-align: right;\">\n",
       "      <th></th>\n",
       "      <th>bus 1</th>\n",
       "      <th>bus 2</th>\n",
       "    </tr>\n",
       "  </thead>\n",
       "  <tbody>\n",
       "    <tr>\n",
       "      <th>count</th>\n",
       "      <td>24.000000</td>\n",
       "      <td>24.000000</td>\n",
       "    </tr>\n",
       "    <tr>\n",
       "      <th>mean</th>\n",
       "      <td>59.964286</td>\n",
       "      <td>63.392857</td>\n",
       "    </tr>\n",
       "    <tr>\n",
       "      <th>std</th>\n",
       "      <td>22.253889</td>\n",
       "      <td>18.919399</td>\n",
       "    </tr>\n",
       "    <tr>\n",
       "      <th>min</th>\n",
       "      <td>20.000000</td>\n",
       "      <td>20.000000</td>\n",
       "    </tr>\n",
       "    <tr>\n",
       "      <th>25%</th>\n",
       "      <td>41.428571</td>\n",
       "      <td>48.285714</td>\n",
       "    </tr>\n",
       "    <tr>\n",
       "      <th>50%</th>\n",
       "      <td>59.000000</td>\n",
       "      <td>59.000000</td>\n",
       "    </tr>\n",
       "    <tr>\n",
       "      <th>75%</th>\n",
       "      <td>77.428571</td>\n",
       "      <td>77.428571</td>\n",
       "    </tr>\n",
       "    <tr>\n",
       "      <th>max</th>\n",
       "      <td>97.142857</td>\n",
       "      <td>97.142857</td>\n",
       "    </tr>\n",
       "  </tbody>\n",
       "</table>\n",
       "</div>"
      ],
      "text/plain": [
       "           bus 1      bus 2\n",
       "count  24.000000  24.000000\n",
       "mean   59.964286  63.392857\n",
       "std    22.253889  18.919399\n",
       "min    20.000000  20.000000\n",
       "25%    41.428571  48.285714\n",
       "50%    59.000000  59.000000\n",
       "75%    77.428571  77.428571\n",
       "max    97.142857  97.142857"
      ]
     },
     "execution_count": 106,
     "metadata": {},
     "output_type": "execute_result"
    }
   ],
   "source": [
    "energy_perc.describe()"
   ]
  },
  {
   "cell_type": "code",
   "execution_count": 107,
   "metadata": {},
   "outputs": [
    {
     "data": {
      "text/html": [
       "<div>\n",
       "<style scoped>\n",
       "    .dataframe tbody tr th:only-of-type {\n",
       "        vertical-align: middle;\n",
       "    }\n",
       "\n",
       "    .dataframe tbody tr th {\n",
       "        vertical-align: top;\n",
       "    }\n",
       "\n",
       "    .dataframe thead th {\n",
       "        text-align: right;\n",
       "    }\n",
       "</style>\n",
       "<table border=\"1\" class=\"dataframe\">\n",
       "  <thead>\n",
       "    <tr style=\"text-align: right;\">\n",
       "      <th></th>\n",
       "      <th>Power</th>\n",
       "    </tr>\n",
       "  </thead>\n",
       "  <tbody>\n",
       "    <tr>\n",
       "      <th>count</th>\n",
       "      <td>24.000000</td>\n",
       "    </tr>\n",
       "    <tr>\n",
       "      <th>mean</th>\n",
       "      <td>90.000000</td>\n",
       "    </tr>\n",
       "    <tr>\n",
       "      <th>std</th>\n",
       "      <td>205.574487</td>\n",
       "    </tr>\n",
       "    <tr>\n",
       "      <th>min</th>\n",
       "      <td>-0.000000</td>\n",
       "    </tr>\n",
       "    <tr>\n",
       "      <th>25%</th>\n",
       "      <td>-0.000000</td>\n",
       "    </tr>\n",
       "    <tr>\n",
       "      <th>50%</th>\n",
       "      <td>-0.000000</td>\n",
       "    </tr>\n",
       "    <tr>\n",
       "      <th>75%</th>\n",
       "      <td>0.000000</td>\n",
       "    </tr>\n",
       "    <tr>\n",
       "      <th>max</th>\n",
       "      <td>540.000000</td>\n",
       "    </tr>\n",
       "  </tbody>\n",
       "</table>\n",
       "</div>"
      ],
      "text/plain": [
       "            Power\n",
       "count   24.000000\n",
       "mean    90.000000\n",
       "std    205.574487\n",
       "min     -0.000000\n",
       "25%     -0.000000\n",
       "50%     -0.000000\n",
       "75%      0.000000\n",
       "max    540.000000"
      ]
     },
     "execution_count": 107,
     "metadata": {},
     "output_type": "execute_result"
    }
   ],
   "source": [
    "power.describe()"
   ]
  }
 ],
 "metadata": {
  "kernelspec": {
   "display_name": "bus_charging_app",
   "language": "python",
   "name": "python3"
  },
  "language_info": {
   "codemirror_mode": {
    "name": "ipython",
    "version": 3
   },
   "file_extension": ".py",
   "mimetype": "text/x-python",
   "name": "python",
   "nbconvert_exporter": "python",
   "pygments_lexer": "ipython3",
   "version": "3.9.15"
  }
 },
 "nbformat": 4,
 "nbformat_minor": 2
}
