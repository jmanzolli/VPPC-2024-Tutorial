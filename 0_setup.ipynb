{
 "cells": [
  {
   "cell_type": "markdown",
   "metadata": {},
   "source": [
    "# **Initialization Notebook for Electric Bus Charging Optimization Tutorial**\n",
    "\n",
    "Welcome! This notebook will help you set up your environment for running the electric bus charging optimization model. If you're new to Python, Pyomo, or optimization, don't worry—this step-by-step guide will make it easy to follow along."
   ]
  },
  {
   "cell_type": "markdown",
   "metadata": {},
   "source": [
    "## Step 1: **Install Python Packages**\n",
    "\n",
    "We will start by installing the necessary Python packages. These include:\n",
    "\n",
    "- **Pyomo**: A popular library for building and solving optimization models.\n",
    "- **Pandas**: A powerful data manipulation tool, used for handling data input.\n",
    "- **Matplotlib**: A plotting library to visualize results.\n",
    "- **NumPy**: A library for numerical computations.\n",
    "\n",
    "You can install these packages by running the following commands. For simplicity, we'll also include a solver like **GLPK**, which is free and compatible with Pyomo.\n",
    "\n",
    "### Installing Pyomo, Pandas, Matplotlib, and NumPy\n",
    "\n",
    "In the code block below, we'll install these packages using `pip`. If you're using Jupyter Notebook, simply run the code cell, and it will handle the installation for you."
   ]
  },
  {
   "cell_type": "code",
   "execution_count": null,
   "metadata": {},
   "outputs": [],
   "source": [
    "# Install necessary packages (uncomment to run)\n",
    "#!pip install pyomo\n",
    "#!pip install pandas\n",
    "#!pip install matplotlib\n",
    "#!pip install numpy"
   ]
  },
  {
   "cell_type": "markdown",
   "metadata": {},
   "source": [
    "---\n",
    "\n",
    "## Step 2: **Installing a Solver**\n",
    "\n",
    "Optimization models like those in Pyomo need a solver to find the best solution. If you're using an open-source solver, **GLPK** is a good option to get started.\n",
    "\n",
    "For Linux or MacOS users, the following code block will install GLPK. Windows users may need to install GLPK separately by following the instructions [here](https://winglpk.sourceforge.net/).\n",
    "\n",
    "### Installing GLPK on Linux/MacOS"
   ]
  },
  {
   "cell_type": "code",
   "execution_count": null,
   "metadata": {},
   "outputs": [],
   "source": [
    "# Install GLPK for Linux or MacOS (uncomment to run)\n",
    "#!apt-get install -y -q glpk-utils"
   ]
  },
  {
   "cell_type": "markdown",
   "metadata": {},
   "source": [
    "If you're using **Gurobi** or **CPLEX**, make sure these are installed on your machine, and you can set the path to the solver in the main notebook.\n",
    "\n",
    "---\n",
    "\n",
    "## Step 3: **Testing Your Setup**\n",
    "\n",
    "Now that the packages are installed, let's check if everything is working properly. Run the following code to confirm that **Pyomo**, **Pandas**, **Matplotlib**, and **NumPy** are successfully installed."
   ]
  },
  {
   "cell_type": "code",
   "execution_count": 3,
   "metadata": {},
   "outputs": [
    {
     "name": "stdout",
     "output_type": "stream",
     "text": [
      "Pyomo version: 6.7.1\n",
      "Pandas version: 2.2.2\n",
      "Matplotlib version: 3.6.2\n",
      "NumPy version: 1.26.4\n"
     ]
    }
   ],
   "source": [
    "# Import necessary libraries to ensure they were installed correctly\n",
    "import pyomo as pyo\n",
    "import pandas as pd\n",
    "import matplotlib as plt\n",
    "import numpy as np\n",
    "\n",
    "# Print success messages if packages are installed\n",
    "print(\"Pyomo version:\", pyo.__version__)\n",
    "print(\"Pandas version:\", pd.__version__)\n",
    "print(\"Matplotlib version:\", plt.__version__)\n",
    "print(\"NumPy version:\", np.__version__)"
   ]
  },
  {
   "cell_type": "markdown",
   "metadata": {},
   "source": [
    "---\n",
    "\n",
    "## Step 4: **Check for Solver Availability**\n",
    "\n",
    "Finally, let's check if a solver is available and ready to be used. If you're using **GLPK**, run the following code to verify that it's installed and functioning correctly."
   ]
  },
  {
   "cell_type": "code",
   "execution_count": 7,
   "metadata": {},
   "outputs": [
    {
     "name": "stdout",
     "output_type": "stream",
     "text": [
      "GLPK solver is available.\n"
     ]
    }
   ],
   "source": [
    "# Check if GLPK is available as a solver\n",
    "from pyomo.opt import SolverFactory\n",
    "solver = SolverFactory('glpk')\n",
    "if solver.available():\n",
    "    print(\"GLPK solver is available.\")\n",
    "else:\n",
    "    print(\"GLPK solver is not available. Please ensure it is installed correctly.\")"
   ]
  },
  {
   "cell_type": "markdown",
   "metadata": {},
   "source": [
    "If you're using another solver like **Gurobi** or **CPLEX**, you can check if they're available by replacing `'glpk'` with `'gurobi'` or `'cplex'` in the code above.\n",
    "\n",
    "---\n",
    "\n",
    "## Step 5: **Next Steps**\n",
    "\n",
    "Once everything is set up:\n",
    "\n",
    "1. You can proceed to the main notebook, where you will build and run the electric bus charging optimization model.\n",
    "2. If you're new to optimization and want to start with a **toy example**, the next notebook will provide a simple example with hardcoded data to get you started.\n",
    "\n",
    "---\n",
    "\n",
    "## Troubleshooting\n",
    "\n",
    "If you run into any issues during installation, here are a few tips:\n",
    "\n",
    "- **Installation issues**: Make sure you're using the latest version of Python and `pip`.\n",
    "- **Solver issues**: If you're having trouble with GLPK, try reinstalling or consider using another solver like **Gurobi** or **CPLEX** (both require licenses).\n",
    "- **Package compatibility**: Ensure that the versions of the installed libraries are compatible. If not, you can try upgrading them with `pip install --upgrade <package-name>`.\n",
    "\n",
    "---\n",
    "\n",
    "### End of Initialization Notebook\n",
    "\n",
    "This notebook is designed to be simple and friendly, with clear instructions and basic commands. It's perfect for those who are new to Python and optimization tools. If all the steps above have been followed successfully, you'll be ready to move on to the core problem-solving part of the tutorial!"
   ]
  }
 ],
 "metadata": {
  "kernelspec": {
   "display_name": "bus_charging_app",
   "language": "python",
   "name": "python3"
  },
  "language_info": {
   "codemirror_mode": {
    "name": "ipython",
    "version": 3
   },
   "file_extension": ".py",
   "mimetype": "text/x-python",
   "name": "python",
   "nbconvert_exporter": "python",
   "pygments_lexer": "ipython3",
   "version": "3.9.15"
  }
 },
 "nbformat": 4,
 "nbformat_minor": 2
}
